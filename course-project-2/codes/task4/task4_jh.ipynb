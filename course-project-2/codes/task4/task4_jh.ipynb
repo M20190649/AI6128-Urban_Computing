{
 "cells": [
  {
   "cell_type": "markdown",
   "metadata": {},
   "source": [
    "# Task 4 (Route Visualization)\n",
    "Visualize the routes that are mapped from the trajectories of the first 10 trips on the road network (together with different colors or separately)."
   ]
  },
  {
   "cell_type": "code",
   "execution_count": null,
   "metadata": {},
   "outputs": [],
   "source": [
    "import os, sys, io\n",
    "import folium\n",
    "import pandas as pd\n",
    "\n",
    "def load_src(name, fpath):\n",
    "    import os, imp\n",
    "    p = fpath if os.path.isabs(fpath) \\\n",
    "        else os.path.join(os.path.dirname(os.path.abspath('')), fpath)\n",
    "    return imp.load_source(name, p)\n",
    "load_src(\"utils\", \"utils/__init__.py\")\n",
    "import utils"
   ]
  },
  {
   "cell_type": "code",
   "execution_count": null,
   "metadata": {},
   "outputs": [],
   "source": [
    "data_path = '../../data'\n",
    "mm_file = os.path.join(data_path, 'match_result.csv')\n",
    "results_path = '../../results/task4'\n",
    "utils.create_dir(results_path)\n",
    "colors_list = utils.get_color_list()['bog']\n",
    "ftiles = utils.get_map_tiles()"
   ]
  },
  {
   "cell_type": "code",
   "execution_count": null,
   "metadata": {},
   "outputs": [],
   "source": [
    "PLOT_LINES = True\n",
    "PLOT_POINTS = False\n",
    "SAVE_IMAGES = True\n",
    "SAVE_INDIVIDUAL = True"
   ]
  },
  {
   "cell_type": "code",
   "execution_count": null,
   "metadata": {},
   "outputs": [],
   "source": [
    "mm_results = utils.get_mm_results_df(mm_file) \n",
    "mm_results.head()"
   ]
  },
  {
   "cell_type": "code",
   "execution_count": null,
   "metadata": {},
   "outputs": [],
   "source": [
    "mm_results.info()"
   ]
  },
  {
   "cell_type": "code",
   "execution_count": null,
   "metadata": {},
   "outputs": [],
   "source": [
    "routes = utils.get_geom_gdf(mm_results)"
   ]
  },
  {
   "cell_type": "code",
   "execution_count": null,
   "metadata": {},
   "outputs": [],
   "source": [
    "routesdf = utils.get_lineString_coords(routes)\n",
    "routesdf.head()"
   ]
  },
  {
   "cell_type": "code",
   "execution_count": null,
   "metadata": {},
   "outputs": [],
   "source": [
    "# coord1, coord2 = utils.get_porto_coords()\n",
    "# coord1 += 0.01\n",
    "# coord2 -= 0.02\n",
    "# f = folium.Figure(width=1800,height=1000)\n",
    "fmap = folium.Map(utils.get_porto_coords(), zoom_start=14, tiles=ftiles[1], zoom_control = False)#.add_to(f)\n",
    "# bounds = utils.get_global_xy_bounds(routesdf[:10])\n",
    "# fmap.fit_bounds(bounds)\n",
    "\n",
    "for idx, lcoord in enumerate(routesdf[:10]):\n",
    "    feature_group = folium.FeatureGroup()\n",
    "    if PLOT_LINES:\n",
    "        feature_group.add_child(folium.PolyLine(lcoord, color=colors_list[idx], weight=3))\n",
    "    if PLOT_POINTS:\n",
    "        for p in lcoord:\n",
    "            feature_group.add_child(folium.Circle(p, radius=1, color=colors_list[idx], fill=True, fill_color=colors_list[idx], fill_opacity=1))\n",
    "    fmap.add_child(feature_group)    \n",
    "\n",
    "fmap"
   ]
  },
  {
   "cell_type": "code",
   "execution_count": null,
   "metadata": {},
   "outputs": [],
   "source": [
    "if SAVE_IMAGES:\n",
    "    utils.save_fmap_plot(fmap, os.path.join(results_path, 'fmap_route_all'))"
   ]
  },
  {
   "cell_type": "code",
   "execution_count": null,
   "metadata": {},
   "outputs": [],
   "source": [
    "if SAVE_INDIVIDUAL:\n",
    "    for idx, lcoord in enumerate(routesdf[:10]):\n",
    "        fmap = folium.Map(utils.get_porto_coords(), zoom_start=13.5, tiles=ftiles[1], zoom_control = False)\n",
    "        bounds = utils.get_xy_bounds(lcoord)\n",
    "        fmap.fit_bounds(bounds)\n",
    "        feature_group = folium.FeatureGroup()\n",
    "        if PLOT_LINES:\n",
    "            feature_group.add_child(folium.PolyLine(lcoord, color=colors_list[idx], weight=3))\n",
    "        if PLOT_POINTS:\n",
    "            for p in lcoord:\n",
    "                feature_group.add_child(folium.Circle(p, radius=1, color=colors_list[idx], fill=True, fill_color=colors_list[idx], fill_opacity=1))\n",
    "        fmap.add_child(feature_group)\n",
    "        utils.save_fmap_plot(fmap, os.path.join(results_path, f'fmap_route_{idx}'))"
   ]
  },
  {
   "cell_type": "code",
   "execution_count": null,
   "metadata": {},
   "outputs": [],
   "source": [
    "idx = 8\n",
    "fi = 0\n",
    "PLOT_LINES = False\n",
    "lcoord = routesdf[idx]\n",
    "fmap = folium.Map(utils.get_porto_coords(), zoom_start=15, tiles=ftiles[fi], zoom_control = False)\n",
    "bounds = utils.get_xy_bounds(lcoord)\n",
    "fmap.fit_bounds(bounds)\n",
    "feature_group = folium.FeatureGroup()\n",
    "if PLOT_LINES:\n",
    "    feature_group.add_child(folium.PolyLine(lcoord, color=colors_list[idx], weight=3))\n",
    "for p in lcoord:\n",
    "    feature_group.add_child(folium.Circle(p, radius=3, color=colors_list[idx], fill=True, fill_color=colors_list[idx], fill_opacity=1))\n",
    "fmap.add_child(feature_group)\n",
    "fmap\n",
    "utils.save_fmap_plot(fmap, os.path.join(results_path, f'fmap{fi}_routepts_{idx}'))"
   ]
  },
  {
   "cell_type": "code",
   "execution_count": null,
   "metadata": {},
   "outputs": [],
   "source": []
  }
 ],
 "metadata": {
  "kernelspec": {
   "display_name": "Python 3",
   "language": "python",
   "name": "python3"
  },
  "language_info": {
   "codemirror_mode": {
    "name": "ipython",
    "version": 3
   },
   "file_extension": ".py",
   "mimetype": "text/x-python",
   "name": "python",
   "nbconvert_exporter": "python",
   "pygments_lexer": "ipython3",
   "version": "3.9.0"
  }
 },
 "nbformat": 4,
 "nbformat_minor": 4
}
